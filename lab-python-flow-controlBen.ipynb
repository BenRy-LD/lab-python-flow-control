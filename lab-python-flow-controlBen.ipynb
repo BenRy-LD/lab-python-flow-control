{
 "cells": [
  {
   "cell_type": "markdown",
   "id": "d3bfc191-8885-42ee-b0a0-bbab867c6f9f",
   "metadata": {
    "tags": []
   },
   "source": [
    "# Lab | Flow Control"
   ]
  },
  {
   "cell_type": "markdown",
   "id": "3851fcd1-cf98-4653-9c89-e003b7ec9400",
   "metadata": {},
   "source": [
    "## Exercise: Managing Customer Orders Optimized\n",
    "\n",
    "In the last lab, you were starting an online store that sells various products. To ensure smooth operations, you developed a program that manages customer orders and inventory.\n",
    "\n",
    "You did so without using flow control. Let's go a step further and improve this code.\n",
    "\n",
    "Follow the steps below to complete the exercise:\n",
    "\n",
    "1. Look at your code from the lab data structures, and improve repeated code with loops.\n",
    "\n",
    "2. Instead of asking the user to input the name of three products that a customer wants to order, do the following:\n",
    "    \n",
    "    a. Prompt the user to enter the name of a product that a customer wants to order.\n",
    "    \n",
    "    b. Add the product name to the \"customer_orders\" set.\n",
    "    \n",
    "    c. Ask the user if they want to add another product (yes/no).\n",
    "    \n",
    "    d. Continue the loop until the user does not want to add another product.\n",
    "\n",
    "3. Instead of updating the inventory by subtracting 1 from the quantity of each product, only do it for  the products that were ordered (those in \"customer_orders\")."
   ]
  },
  {
   "cell_type": "code",
   "execution_count": null,
   "id": "f7ab52ea-4edd-4dbe-9e17-d31225e82aa9",
   "metadata": {},
   "outputs": [
    {
     "name": "stdout",
     "output_type": "stream",
     "text": [
      "Inventory entered:\n"
     ]
    },
    {
     "name": "stdin",
     "output_type": "stream",
     "text": [
      "Enter the amount for t-shirt:  5\n",
      "Enter the amount for mug:  5\n",
      "Enter the amount for hat:  5\n",
      "Enter the amount for book:  5\n",
      "Enter the amount for keychain:  5\n",
      "Enter the name of the product to order (or 'done' to finish):  book\n",
      "Enter the name of the product to order (or 'done' to finish):  hat\n",
      "Enter the name of the product to order (or 'done' to finish):  t-shirt\n"
     ]
    }
   ],
   "source": [
    "products = [\"t-shirt\", \"mug\", \"hat\", \"book\", \"keychain\"]\n",
    "inventory = {}\n",
    "\n",
    "def populate_inventory():\n",
    "    for product in products:\n",
    "        quantity = int(input(f\"Enter the amount for {product}: \"))\n",
    "        inventory[product] = quantity\n",
    "print(\"Inventory entered:\")\n",
    "for product, quantity in inventory.items():\n",
    "        print(f\"{product}: {quantity}\")\n",
    "\n",
    "def process_orders():\n",
    "    customer_orders = set()\n",
    "    \n",
    "    while True:\n",
    "        order = input(\"Enter the name of the product to order (or 'done' to finish): \").strip().lower()\n",
    "        if order == 'done':\n",
    "            break\n",
    "        elif order in products and inventory[order] > 0:\n",
    "            customer_orders.add(order)\n",
    "        else:\n",
    "            print(\"Invalid product name or not in stock. Try again.\")\n",
    "    \n",
    "    return customer_orders\n",
    "\n",
    "\n",
    "def display_order_stats(customer_orders):\n",
    "    total_products_ordered = len(customer_orders)\n",
    "    total_available_products = sum(inventory.values())\n",
    "    percentage_ordered = (total_products_ordered / total_available_products) * 100 if total_available_products > 0 else 0\n",
    "    order_status = (total_products_ordered, round(percentage_ordered, 2))\n",
    "    \n",
    "    print(\"Order Statistics:\")\n",
    "    print(f\"Total products ordered: {order_status[0]}\")\n",
    "    print(f\"Percentage of products ordered: {order_status[1]}%\")\n",
    "\n",
    "def update_inventory(customer_orders):\n",
    "    for item in customer_orders:\n",
    "        if inventory[item] > 0:\n",
    "            inventory[item] -= 1\n",
    "    \n",
    "    print(\"Updated inventory:\")\n",
    "    for product, quantity in inventory.items():\n",
    "        print(f\"{product}: {quantity}\")\n",
    "##MAIN DONT TOUCH###\n",
    "populate_inventory()\n",
    "customer_orders = process_orders()\n",
    "print(\"Customer Orders:\")\n",
    "print(customer_orders)\n",
    "order_stats(customer_orders)\n",
    "update_inventory(customer_orders)\n"
   ]
  },
  {
   "cell_type": "code",
   "execution_count": null,
   "id": "e48c1428-6e64-4854-8457-08b107c82c28",
   "metadata": {},
   "outputs": [],
   "source": []
  }
 ],
 "metadata": {
  "kernelspec": {
   "display_name": "Python [conda env:base] *",
   "language": "python",
   "name": "conda-base-py"
  },
  "language_info": {
   "codemirror_mode": {
    "name": "ipython",
    "version": 3
   },
   "file_extension": ".py",
   "mimetype": "text/x-python",
   "name": "python",
   "nbconvert_exporter": "python",
   "pygments_lexer": "ipython3",
   "version": "3.12.7"
  }
 },
 "nbformat": 4,
 "nbformat_minor": 5
}
